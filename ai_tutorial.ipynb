{
  "nbformat": 4,
  "nbformat_minor": 0,
  "metadata": {
    "colab": {
      "provenance": []
    },
    "kernelspec": {
      "name": "python3",
      "display_name": "Python 3"
    },
    "language_info": {
      "name": "python"
    }
  },
  "cells": [
    {
      "cell_type": "markdown",
      "source": [
        "# Kurze Python Einführung"
      ],
      "metadata": {
        "id": "irMQ4Z4MBuvj"
      }
    },
    {
      "cell_type": "markdown",
      "source": [
        "## String/Texte, Integer/Ganzzahlen Datentyp"
      ],
      "metadata": {
        "id": "pmMsmQmYJr48"
      }
    },
    {
      "cell_type": "code",
      "source": [
        "# integer/Ganzahlen\n",
        "a=10\n",
        "b:int=20   # variablen deklaration mit optionalen Typhinweis Vorteil: die IDE weiß besser Bescheid über das was du machen willst und kann helfen\n",
        "\n",
        "print(a+b) # Ausgaben mit print()\n",
        "print(\"Hier eine Variante ohne fstring a+b=\", a+b) # Ausgabe von eineme literal und einer Variablen\n",
        "print(f\"Eine zusätzliche Erklärung der obigen Ausgabe in Form eines Textes {a+b=}\") # andere Möglichkeit einer Ausgabe\n",
        "\n",
        "a:str=\"Hier grast \"\n",
        "b=\"ein Kamel \"\n",
        "c=\"in der Wüste.\"\n",
        "d=a+b+c   # string concatenation, man kann Texte zusammenfügen\n",
        "print(d)\n",
        "a=10;b=20;ergebnis=a+b;print(ergebnis) # Mehrere Befehle in einer Zeile mit einem Kommentar"
      ],
      "metadata": {
        "id": "GrzTSzQFB8sz",
        "colab": {
          "base_uri": "https://localhost:8080/"
        },
        "outputId": "7c5b698b-8a7b-4745-c014-c0edc4488a26"
      },
      "execution_count": 29,
      "outputs": [
        {
          "output_type": "stream",
          "name": "stdout",
          "text": [
            "30\n",
            "Hier eine Variante ohne fstring a+b= 30\n",
            "Eine zusätzliche Erklärung der obigen Ausgabe in Form eines Textes a+b=30\n",
            "Hier grast ein Kamel in der Wüste.\n",
            "30\n"
          ]
        }
      ]
    },
    {
      "cell_type": "markdown",
      "source": [
        "## Listen Datentyp"
      ],
      "metadata": {
        "id": "e-7w9in2L3pT"
      }
    },
    {
      "cell_type": "code",
      "source": [
        "liste:list=[]\n",
        "print(\"Ich bin eine leere Liste:\",liste)\n",
        "\n",
        "liste=[0,1,2,3]\n",
        "print(\"Ich bin eine befüllte Liste:\",liste)\n",
        "\n",
        "liste[0]= 10\n",
        "print(\"Ein Element wurde geändert:\",liste)\n",
        "print(f\"Länge einer Liste ausgegeben {len(liste)=}\")\n",
        "print(\"Die Liste wird nur Teilweise ausgegeben:\",liste[1:3])\n",
        "print(\"Alle ab dem index 1 werden ausgegeben:\",liste[1:])\n",
        "print(\"Die beiden letzten Elemente werden ausgegeben-2 zählt von hinten nach vorne [0,1....-2,-1]\",liste[-2:])\n",
        "\n"
      ],
      "metadata": {
        "colab": {
          "base_uri": "https://localhost:8080/"
        },
        "id": "vw5u8bH-CU-B",
        "outputId": "767d8bbe-037e-4f16-97db-e32d2ad67121"
      },
      "execution_count": 27,
      "outputs": [
        {
          "output_type": "stream",
          "name": "stdout",
          "text": [
            "Ich bin eine leere Liste: []\n",
            "Ich bin eine befüllte Liste: [0, 1, 2, 3]\n",
            "Ein Element wurde geändert: [10, 1, 2, 3]\n",
            "Länge einer Liste ausgegeben len(liste)=4\n",
            "Die Liste wird nur Teilweise ausgegeben: [1, 2]\n",
            "Alle ab dem index 1 werden ausgegeben: [1, 2, 3]\n",
            "Die beiden letzten Elemente werden ausgegeben-2 zählt von hinten nach vorne [0,1....-2,-1] [2, 3]\n"
          ]
        }
      ]
    },
    {
      "cell_type": "markdown",
      "source": [
        "## Fallunterscheidung"
      ],
      "metadata": {
        "id": "4cUBjn-OMC4E"
      }
    },
    {
      "cell_type": "code",
      "source": [
        "liste=[0,1,2,3]\n",
        "if len(liste)>=5: # wenn größer gleich 4\n",
        "  print(\"schlecht\") # dann mache ...\n",
        "elif liste[0]!=0: # andernfalls wenn ungleich 0\n",
        "  print(\"schlecht\") # dann mache ...\n",
        "elif len(liste)>=4: # andernfalls wenn größer gleich 4\n",
        "  print(\"gut\") # dann mache ...\n",
        "else:# sonst (in allen anderen Fällen)...\n",
        "  print(\"schlecht\") # dann mache ..."
      ],
      "metadata": {
        "id": "UVRjJrgTMI0b",
        "colab": {
          "base_uri": "https://localhost:8080/"
        },
        "outputId": "0473f3f5-d9d5-4ba7-eca9-ea6d639dc07f"
      },
      "execution_count": 26,
      "outputs": [
        {
          "output_type": "stream",
          "name": "stdout",
          "text": [
            "gut\n"
          ]
        }
      ]
    },
    {
      "cell_type": "markdown",
      "source": [
        "## Schleifen"
      ],
      "metadata": {
        "id": "Or0pWu4AML7j"
      }
    },
    {
      "cell_type": "code",
      "source": [
        "liste=[0,1,2,3]\n",
        "#variable loop\n",
        "liste2=[]\n",
        "for element in liste: # for loop variabel\n",
        "  liste2.append(f\"Nr. {element}\")\n",
        "print(\"konservative Variante:\\n\",liste2)\n",
        "list_comrehension_example=[f\"Nr. {element}\" for element in liste] # kompaktere Variante\n",
        "print(\"kompaktere Version nur bei kleinen standard Schleifen übersichtlicher:\\n\",list_comrehension_example)\n",
        "# feste loop\n",
        "liste3=[]\n",
        "for element in range(10):# feste anzahl schleifen durchgänge\n",
        "  liste3.append(f\"Nr. {element}\")\n",
        "print(liste3)\n"
      ],
      "metadata": {
        "id": "i6aAiLeDMPKc",
        "colab": {
          "base_uri": "https://localhost:8080/"
        },
        "outputId": "9cda32e0-137b-46af-a8e5-c7acd9f8c3c8"
      },
      "execution_count": 24,
      "outputs": [
        {
          "output_type": "stream",
          "name": "stdout",
          "text": [
            "konservative Variante:\n",
            " ['Nr. 0', 'Nr. 1', 'Nr. 2', 'Nr. 3']\n",
            "kompaktere Version nur bei kleinen standard Schleifen übersichtlicher:\n",
            " ['Nr. 0', 'Nr. 1', 'Nr. 2', 'Nr. 3']\n",
            "['Nr. 0', 'Nr. 1', 'Nr. 2', 'Nr. 3', 'Nr. 4', 'Nr. 5', 'Nr. 6', 'Nr. 7', 'Nr. 8', 'Nr. 9']\n"
          ]
        }
      ]
    },
    {
      "cell_type": "code",
      "source": [
        "#while loop\n",
        "trigger:bool=True\n",
        "counter:int = 0\n",
        "while trigger:\n",
        "  counter= counter +1\n",
        "  print(f\"Der Schalter wurde noch nicht betätigt! \\n{trigger=}\\n{counter=}\")\n",
        "  trigger=False"
      ],
      "metadata": {
        "colab": {
          "base_uri": "https://localhost:8080/"
        },
        "id": "cdj6pg-HUk2U",
        "outputId": "18878dc5-a2bc-4056-fa61-bc9c0f07edba"
      },
      "execution_count": 23,
      "outputs": [
        {
          "output_type": "stream",
          "name": "stdout",
          "text": [
            "Der Schalter wurde noch nicht betätigt! \n",
            "trigger=True\n",
            "counter=1\n"
          ]
        }
      ]
    },
    {
      "cell_type": "markdown",
      "source": [
        "# Projekt Setup\n",
        "\n",
        "- installieren von Python Packages hier in Colab mit **%pip install**"
      ],
      "metadata": {
        "id": "JAWD40PaBGii"
      }
    },
    {
      "cell_type": "code",
      "source": [
        "%pip install langchain_openai"
      ],
      "metadata": {
        "collapsed": true,
        "id": "Rj5M6rTE-MZ6"
      },
      "execution_count": null,
      "outputs": []
    },
    {
      "cell_type": "code",
      "source": [
        "from langchain.agents import AgentExecutor, create_tool_calling_agent\n",
        "from langchain_core.messages import HumanMessage, SystemMessage\n",
        "from langchain_core.prompts import ChatPromptTemplate, PromptTemplate\n",
        "from langchain_core.runnables import Runnable\n",
        "from langchain_core.tools import BaseTool\n",
        "from langchain_openai import ChatOpenAI"
      ],
      "metadata": {
        "id": "B7PVYTQ187q0"
      },
      "execution_count": null,
      "outputs": []
    }
  ]
}