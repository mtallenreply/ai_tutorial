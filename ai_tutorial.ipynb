{
  "nbformat": 4,
  "nbformat_minor": 0,
  "metadata": {
    "colab": {
      "provenance": [],
      "include_colab_link": true
    },
    "kernelspec": {
      "name": "python3",
      "display_name": "Python 3"
    },
    "language_info": {
      "name": "python"
    }
  },
  "cells": [
    {
      "cell_type": "markdown",
      "metadata": {
        "id": "view-in-github",
        "colab_type": "text"
      },
      "source": [
        "<a href=\"https://colab.research.google.com/github/mtallenreply/ai_tutorial/blob/main/ai_tutorial.ipynb\" target=\"_parent\"><img src=\"https://colab.research.google.com/assets/colab-badge.svg\" alt=\"Open In Colab\"/></a>"
      ]
    },
    {
      "cell_type": "markdown",
      "source": [
        "# Kurze Python Einführung"
      ],
      "metadata": {
        "id": "irMQ4Z4MBuvj"
      }
    },
    {
      "cell_type": "markdown",
      "source": [
        "## String/Texte"
      ],
      "metadata": {
        "id": "pmMsmQmYJr48"
      }
    },
    {
      "cell_type": "code",
      "source": [
        "# string/Text\n",
        "a=10\n",
        "b:int=20   # variablen deklaration mit optionalen Typhinweis Vorteil: die IDE weiß besser Bescheid über das was du machen willst und kann helfen\n",
        "\n",
        "print(a+b) # Ausgaben mit print()\n",
        "print(\"Hier eine Variante ohne fstring a+b=\", a+b) # Ausgabe von eineme literal und einer Variablen\n",
        "print(f\"Eine zusätzliche Erklärung der obigen Ausgabe in Form eines Textes {a+b=}\") # andere Möglichkeit einer Ausgabe\n",
        "\n",
        "a:str=\"Hier grast \"\n",
        "b=\"ein Kamel \"\n",
        "c=\"in der Wüste.\"\n",
        "d=a+b+c   # string concatenation, man fügt texte zusammen\n",
        "print(d)\n",
        "a=10;b=20; print(c:=a+b);print(c) # Mehrere Befehle in einer Zeile mit einem Kommentar"
      ],
      "metadata": {
        "id": "GrzTSzQFB8sz"
      },
      "execution_count": null,
      "outputs": []
    },
    {
      "cell_type": "markdown",
      "source": [
        "## Listen Datentyp"
      ],
      "metadata": {
        "id": "e-7w9in2L3pT"
      }
    },
    {
      "cell_type": "code",
      "source": [
        "\n",
        "# list/Liste\n",
        "liste:list=[] # leere Liste erstellt\n",
        "print(\"Ich bin eine leere Liste\",liste)\n",
        "liste=[0,1,2,3] # gefüllte Liste mit integers\n",
        "print(\"Ich bin eine befüllte Liste\",liste)"
      ],
      "metadata": {
        "colab": {
          "base_uri": "https://localhost:8080/"
        },
        "id": "vw5u8bH-CU-B",
        "outputId": "5d42f7df-4f5b-4a5e-d51a-51b7394e2f8e"
      },
      "execution_count": null,
      "outputs": [
        {
          "output_type": "stream",
          "name": "stdout",
          "text": [
            "30\n",
            "Hier eine Variante ohne fstring a+b= 30\n",
            "Eine zusätzliche Erklärung der obigen Ausgabe in Form eines Textes a+b=30\n",
            "Hier grast ein Kamel in der Wüste.\n",
            "[]\n",
            "[0, 1, 2, 3]\n",
            "good\n",
            "['Nr. 0', 'Nr. 1', 'Nr. 2', 'Nr. 3']\n",
            "['Nr. 0', 'Nr. 1', 'Nr. 2', 'Nr. 3']\n"
          ]
        }
      ]
    },
    {
      "cell_type": "markdown",
      "source": [
        "## Fallunterscheidung"
      ],
      "metadata": {
        "id": "4cUBjn-OMC4E"
      }
    },
    {
      "cell_type": "code",
      "source": [
        "# if elif else / wenn dann\n",
        "if len(liste)>=5: # größer gleich 4\n",
        "  print(\"schlecht\")\n",
        "elif liste[0]!=0: # ungleich 0\n",
        "  print(\"schlecht\")\n",
        "elif len(liste)>=4: # größer gleich 4\n",
        "  print(\"gut\")\n",
        "else:\n",
        "  print(\"schlecht\")"
      ],
      "metadata": {
        "id": "UVRjJrgTMI0b"
      },
      "execution_count": null,
      "outputs": []
    },
    {
      "cell_type": "markdown",
      "source": [
        "## Schleifen"
      ],
      "metadata": {
        "id": "Or0pWu4AML7j"
      }
    },
    {
      "cell_type": "code",
      "source": [
        "# for loop/ for Schleife\n",
        "liste=[0,1,2,3] # gefüllte Liste mit integers\n",
        "\n",
        "liste2=[]\n",
        "for element in liste:\n",
        "  liste2.append(f\"Nr. {element}\")\n",
        "print(liste2)\n",
        "list_comrehension_example=[f\"Nr. {element}\" for element in liste] # kompaktere Variante\n",
        "print(\"kompaktere Version (im code):\",list_comrehension_example)\n",
        "\n",
        "liste3=[]\n",
        "for element in range(10):# feste anzahl schleifen durchgänge\n",
        "  liste3.append(f\"Nr. {element}\")\n",
        "print(liste3)\n"
      ],
      "metadata": {
        "id": "i6aAiLeDMPKc",
        "outputId": "27a56611-7717-4f6c-a788-7f4ccdcceb9c",
        "colab": {
          "base_uri": "https://localhost:8080/"
        }
      },
      "execution_count": 4,
      "outputs": [
        {
          "output_type": "stream",
          "name": "stdout",
          "text": [
            "['Nr. 0', 'Nr. 1', 'Nr. 2', 'Nr. 3']\n",
            "kompaktere Version (im code): ['Nr. 0', 'Nr. 1', 'Nr. 2', 'Nr. 3']\n"
          ]
        }
      ]
    },
    {
      "cell_type": "code",
      "source": [
        "#while loop\n",
        "trigger:bool=True\n",
        "counter:int = 0\n",
        "while trigger:\n",
        "  counter= counter +1\n",
        "  print(f\"Der Schalter wurde noch nicht betätigt! \\n{trigger=}\\n{counter=}\")\n",
        "  trigger=False"
      ],
      "metadata": {
        "id": "cdj6pg-HUk2U",
        "outputId": "93ae0e52-4a93-4809-c27b-1c2003cf38b4",
        "colab": {
          "base_uri": "https://localhost:8080/"
        }
      },
      "execution_count": 7,
      "outputs": [
        {
          "output_type": "stream",
          "name": "stdout",
          "text": [
            "Der Schalter wurde noch nicht betätigt! \n",
            "trigger=True\n",
            " counter=1\n"
          ]
        }
      ]
    },
    {
      "cell_type": "markdown",
      "source": [
        "# Projekt Setup\n",
        "\n",
        "- installieren von Python Packages hier in Colab mit **%pip install**"
      ],
      "metadata": {
        "id": "JAWD40PaBGii"
      }
    },
    {
      "cell_type": "code",
      "source": [
        "%pip install langchain_openai"
      ],
      "metadata": {
        "collapsed": true,
        "id": "Rj5M6rTE-MZ6"
      },
      "execution_count": null,
      "outputs": []
    },
    {
      "cell_type": "code",
      "source": [
        "from langchain.agents import AgentExecutor, create_tool_calling_agent\n",
        "from langchain_core.messages import HumanMessage, SystemMessage\n",
        "from langchain_core.prompts import ChatPromptTemplate, PromptTemplate\n",
        "from langchain_core.runnables import Runnable\n",
        "from langchain_core.tools import BaseTool\n",
        "from langchain_openai import ChatOpenAI"
      ],
      "metadata": {
        "id": "B7PVYTQ187q0"
      },
      "execution_count": null,
      "outputs": []
    }
  ]
}